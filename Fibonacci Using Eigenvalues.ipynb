{
 "cells": [
  {
   "cell_type": "code",
   "execution_count": 1,
   "metadata": {},
   "outputs": [],
   "source": [
    "import numpy as np"
   ]
  },
  {
   "cell_type": "code",
   "execution_count": 10,
   "metadata": {},
   "outputs": [],
   "source": [
    "def fib(n):\n",
    "    \"\"\"\n",
    "    Solve Fibonacci number using Eigenvalues to solve system of difference equations\n",
    "    \n",
    "    Returns:\n",
    "    [(n+1)th Fibonacci number, nth Fibonacci number]\n",
    "    \"\"\"\n",
    "    c = np.array([1/np.sqrt(5), -1/np.sqrt(5)])\n",
    "    lam = np.array([(1.0+np.sqrt(5.0))/2.0, (1.0-np.sqrt(5.0))/2.0])\n",
    "    x = np.array([\n",
    "        [lam[0], 1],\n",
    "        [lam[1], 1]])\n",
    "    return x.T @ np.array([c*lam**n]).T"
   ]
  },
  {
   "cell_type": "code",
   "execution_count": 11,
   "metadata": {},
   "outputs": [
    {
     "data": {
      "text/plain": [
       "array([[89.],\n",
       "       [55.]])"
      ]
     },
     "execution_count": 11,
     "metadata": {},
     "output_type": "execute_result"
    }
   ],
   "source": [
    "fib(10)"
   ]
  },
  {
   "cell_type": "code",
   "execution_count": 4,
   "metadata": {},
   "outputs": [],
   "source": [
    "def fib2(n):\n",
    "    A = np.array([\n",
    "        [1., 1.],\n",
    "        [1., 0.]])\n",
    "    lam, X = np.linalg.eig(A)\n",
    "    c = np.linalg.solve(X, np.array([1., 0.]))\n",
    "    return X @ (c*lam**n)\n",
    "    "
   ]
  },
  {
   "cell_type": "code",
   "execution_count": 5,
   "metadata": {},
   "outputs": [
    {
     "data": {
      "text/plain": [
       "array([144.,  89.])"
      ]
     },
     "execution_count": 5,
     "metadata": {},
     "output_type": "execute_result"
    }
   ],
   "source": [
    "fib2(11)"
   ]
  },
  {
   "cell_type": "code",
   "execution_count": null,
   "metadata": {},
   "outputs": [],
   "source": []
  }
 ],
 "metadata": {
  "kernelspec": {
   "display_name": "Python 3.7.5 64-bit ('venv': virtualenv)",
   "language": "python",
   "name": "python37564bitvenvvirtualenv5d3befb609dd4e869f26774f9a6d2711"
  },
  "language_info": {
   "codemirror_mode": {
    "name": "ipython",
    "version": 3
   },
   "file_extension": ".py",
   "mimetype": "text/x-python",
   "name": "python",
   "nbconvert_exporter": "python",
   "pygments_lexer": "ipython3",
   "version": "3.7.5rc1"
  }
 },
 "nbformat": 4,
 "nbformat_minor": 2
}

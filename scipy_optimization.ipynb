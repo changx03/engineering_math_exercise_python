{
 "cells": [
  {
   "cell_type": "markdown",
   "metadata": {},
   "source": [
    "# Optimization Problem\n",
    "\n",
    "\n",
    "min $x_1x_4(x_1+x_2+x_3)+x_3$  \n",
    "s.t.  \n",
    "$x_1x_2x_3x_4 >= 25$  \n",
    "$x_1^2+x_2^2+x_3^2+x_4^2 = 40$  \n",
    "for all $x_i$, $1 <= x_i <= 5$  \n",
    "$x^{(0)} = (1, 5, 5, 1)$\n"
   ]
  },
  {
   "cell_type": "code",
   "execution_count": 1,
   "metadata": {},
   "outputs": [],
   "source": [
    "import numpy as np\n",
    "from scipy.optimize import minimize"
   ]
  },
  {
   "cell_type": "code",
   "execution_count": 6,
   "metadata": {},
   "outputs": [],
   "source": [
    "def objective(x):\n",
    "    return x[0]*x[3]*np.sum(x[0:3])+x[2]"
   ]
  },
  {
   "cell_type": "code",
   "execution_count": 9,
   "metadata": {},
   "outputs": [],
   "source": [
    "# inequality constraint f(x) >= 0\n",
    "def constraint1(x):\n",
    "    return np.product(x) - 25\n",
    "\n",
    "def constraint2(x):\n",
    "    return np.sum(x**2) - 40\n",
    "    "
   ]
  },
  {
   "cell_type": "code",
   "execution_count": 12,
   "metadata": {},
   "outputs": [
    {
     "data": {
      "text/plain": [
       "((1.0, 5.0), (1.0, 5.0), (1.0, 5.0), (1.0, 5.0))"
      ]
     },
     "execution_count": 12,
     "metadata": {},
     "output_type": "execute_result"
    }
   ],
   "source": [
    "boundary = (1., 5.)\n",
    "bounds = ((boundary, ) * 4)\n",
    "bounds"
   ]
  },
  {
   "cell_type": "code",
   "execution_count": 20,
   "metadata": {},
   "outputs": [],
   "source": [
    "con1 = {\n",
    "    'type': 'ineq',\n",
    "    'fun': constraint1\n",
    "}\n",
    "con2 = {\n",
    "    'type': 'eq',\n",
    "    'fun': constraint2\n",
    "}\n",
    "cons = [con1, con2]"
   ]
  },
  {
   "cell_type": "code",
   "execution_count": 21,
   "metadata": {},
   "outputs": [
    {
     "data": {
      "text/plain": [
       "16"
      ]
     },
     "execution_count": 21,
     "metadata": {},
     "output_type": "execute_result"
    }
   ],
   "source": [
    "x0 = [1, 5, 5, 1]\n",
    "objective(x0)"
   ]
  },
  {
   "cell_type": "code",
   "execution_count": 22,
   "metadata": {},
   "outputs": [
    {
     "data": {
      "text/plain": [
       "     fun: 17.01401724556073\n",
       "     jac: array([14.57227039,  1.37940764,  2.37940764,  9.56415081])\n",
       " message: 'Optimization terminated successfully.'\n",
       "    nfev: 30\n",
       "     nit: 5\n",
       "    njev: 5\n",
       "  status: 0\n",
       " success: True\n",
       "       x: array([1.        , 4.74299607, 3.82115466, 1.37940764])"
      ]
     },
     "execution_count": 22,
     "metadata": {},
     "output_type": "execute_result"
    }
   ],
   "source": [
    "solution = minimize(\n",
    "    objective,\n",
    "    x0,\n",
    "    method='SLSQP',\n",
    "    bounds=bounds,\n",
    "    constraints=cons\n",
    ")\n",
    "solution"
   ]
  },
  {
   "cell_type": "code",
   "execution_count": 23,
   "metadata": {},
   "outputs": [
    {
     "data": {
      "text/plain": [
       "array([1.        , 4.74299607, 3.82115466, 1.37940764])"
      ]
     },
     "execution_count": 23,
     "metadata": {},
     "output_type": "execute_result"
    }
   ],
   "source": [
    "solution.x"
   ]
  },
  {
   "cell_type": "code",
   "execution_count": null,
   "metadata": {},
   "outputs": [],
   "source": []
  }
 ],
 "metadata": {
  "kernelspec": {
   "display_name": "Python 3",
   "language": "python",
   "name": "python3"
  },
  "language_info": {
   "codemirror_mode": {
    "name": "ipython",
    "version": 3
   },
   "file_extension": ".py",
   "mimetype": "text/x-python",
   "name": "python",
   "nbconvert_exporter": "python",
   "pygments_lexer": "ipython3",
   "version": "3.6.9"
  }
 },
 "nbformat": 4,
 "nbformat_minor": 4
}
